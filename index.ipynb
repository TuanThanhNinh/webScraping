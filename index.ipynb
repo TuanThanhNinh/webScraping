{
 "cells": [
  {
   "cell_type": "code",
   "execution_count": 4,
   "metadata": {},
   "outputs": [],
   "source": [
    "from bs4 import BeautifulSoup as bs\n",
    "import requests\n",
    "from requests import get\n",
    "import pandas as pd"
   ]
  },
  {
   "cell_type": "code",
   "execution_count": 25,
   "metadata": {},
   "outputs": [
    {
     "name": "stdout",
     "output_type": "stream",
     "text": [
      "Pride and Prejudice\n",
      "Jane Austen\n",
      "average rating:  4.29\n",
      "rating:  4,258,629\n",
      "average score:  242,654,\n",
      "votes:  2,455\n"
     ]
    }
   ],
   "source": [
    "##initial setup for beautiful soup, with the selected url\n",
    "url = 'https://www.goodreads.com/list/show/12362.All_Time_Favorite_Romance_Novels?page=1'\n",
    "response = get(url)\n",
    "html = response.content\n",
    "html_soup = bs(html,\"html.parser\")\n",
    "\n",
    "## testing with the first book only in page 1\n",
    "book_containers = html_soup.find_all(\"tr\",itemtype=\"http://schema.org/Book\")\n",
    "first_book = book_containers[0]\n",
    "\n",
    "##getting book's title\n",
    "book_title = first_book.find(\"a\",class_=\"bookTitle\").text.strip()\n",
    "print(book_title)\n",
    "\n",
    "##getting book's author\n",
    "book_author = first_book.find(\"span\",itemtype=\"http://schema.org/Person\").text.strip()\n",
    "print(book_author)\n",
    "\n",
    "##getting scoring \n",
    "scoring = first_book.find(\"span\",class_=\"minirating\").text.strip().split()\n",
    "avg_rating= scoring[0]\n",
    "rating = scoring[4]\n",
    "print(\"average rating: \", avg_rating)\n",
    "print(\"rating: \",rating)\n",
    "\n",
    "##getitng votes\n",
    "voted = first_book.find(\"span\",class_=\"smallText uitext\").text.strip().split()\n",
    "avg_score = voted[1]\n",
    "votes_num = voted[3]\n",
    "print(\"average score: \", avg_score)\n",
    "print(\"votes: \", votes_num)"
   ]
  },
  {
   "cell_type": "code",
   "execution_count": 27,
   "metadata": {},
   "outputs": [],
   "source": [
    "page=1\n",
    "titles=[]\n",
    "authors=[]\n",
    "avg_ratings=[]\n",
    "ratings_num=[]\n",
    "avg_scores=[]\n",
    "votes_num=[]\n",
    "\n",
    "##we loop through first 50 pages and repeat the same method we applied for the first book to get the info\n",
    "while page <= 50:\n",
    "    url = 'https://www.goodreads.com/list/show/12362.All_Time_Favorite_Romance_Novels?page={page}'\n",
    "    response = get(url)\n",
    "    html= response.content\n",
    "    html_soup = bs(html,\"html.parser\")\n",
    "    book_containers = html_soup.find_all(\"tr\",itemtype=\"http://schema.org/Book\")\n",
    "    for container in book_containers:\n",
    "        book_title = container.find(\"a\",class_=\"bookTitle\").text.strip()\n",
    "        titles.append(book_title)\n",
    "        \n",
    "        book_author = container.find(\"span\",itemtype=\"http://schema.org/Person\").text.strip()\n",
    "        authors.append(book_author)\n",
    "        \n",
    "        scoring = container.find(\"span\",class_=\"minirating\").text.strip().split()\n",
    "        avg_ratings.append(scoring[0])\n",
    "        ratings_num.append(scoring[4])\n",
    "        \n",
    "        \n",
    "        voted = container.find(\"span\",class_=\"smallText uitext\").text.strip().split()\n",
    "        avg_scores.append(voted[1])\n",
    "        votes_num.append (voted[3])\n",
    "        \n",
    "    page += 1\n",
    "    "
   ]
  },
  {
   "cell_type": "code",
   "execution_count": 30,
   "metadata": {},
   "outputs": [],
   "source": [
    "##Making the dataframe \n",
    "df = pd.DataFrame({\"title\": titles,\"author\": authors, \"average rating\": avg_ratings, \"rating\": ratings_num, \"average score\": avg_scores, \"votes\": votes_num })\n",
    "\n",
    "##export the dataframe into csv file \n",
    "df.to_csv(\"romance_novel.csv\", index=False)"
   ]
  },
  {
   "cell_type": "code",
   "execution_count": null,
   "metadata": {},
   "outputs": [],
   "source": []
  }
 ],
 "metadata": {
  "kernelspec": {
   "display_name": "Python 3",
   "language": "python",
   "name": "python3"
  },
  "language_info": {
   "codemirror_mode": {
    "name": "ipython",
    "version": 3
   },
   "file_extension": ".py",
   "mimetype": "text/x-python",
   "name": "python",
   "nbconvert_exporter": "python",
   "pygments_lexer": "ipython3",
   "version": "3.11.7"
  }
 },
 "nbformat": 4,
 "nbformat_minor": 2
}
